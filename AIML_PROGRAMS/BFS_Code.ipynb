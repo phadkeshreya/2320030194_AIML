{
  "nbformat": 4,
  "nbformat_minor": 0,
  "metadata": {
    "colab": {
      "provenance": [],
      "authorship_tag": "ABX9TyN/ETxgS8pTcRkdZPbUcHSP",
      "include_colab_link": true
    },
    "kernelspec": {
      "name": "python3",
      "display_name": "Python 3"
    },
    "language_info": {
      "name": "python"
    }
  },
  "cells": [
    {
      "cell_type": "markdown",
      "metadata": {
        "id": "view-in-github",
        "colab_type": "text"
      },
      "source": [
        "<a href=\"https://colab.research.google.com/github/phadkeshreya/2320030194_AIML/blob/main/AIML_PROGRAMS/BFS_Code.ipynb\" target=\"_parent\"><img src=\"https://colab.research.google.com/assets/colab-badge.svg\" alt=\"Open In Colab\"/></a>"
      ]
    },
    {
      "cell_type": "code",
      "execution_count": null,
      "metadata": {
        "colab": {
          "base_uri": "https://localhost:8080/"
        },
        "id": "vnhdxFwfdRnS",
        "outputId": "da91aca6-e2ea-4763-ed9d-629a14ceeec1"
      },
      "outputs": [
        {
          "output_type": "stream",
          "name": "stdout",
          "text": [
            "BFS Traversal starting from node A:\n",
            "A B C D E F "
          ]
        }
      ],
      "source": [
        "from collections import deque\n",
        "\n",
        "# Function to perform BFS\n",
        "def bfs(graph, start):\n",
        "    # Create a queue for BFS\n",
        "    queue = deque([start])\n",
        "\n",
        "    # Set of visited nodes to prevent revisiting\n",
        "    visited = set()\n",
        "\n",
        "    # Add the starting node to the visited set\n",
        "    visited.add(start)\n",
        "\n",
        "    while queue:\n",
        "        # Dequeue a vertex from the queue\n",
        "        node = queue.popleft()\n",
        "        print(node, end=\" \")\n",
        "\n",
        "        # Get all adjacent vertices of the dequeued vertex\n",
        "        # If an adjacent vertex hasn't been visited, mark it visited and enqueue it\n",
        "        for neighbor in graph[node]:\n",
        "            if neighbor not in visited:\n",
        "                queue.append(neighbor)\n",
        "                visited.add(neighbor)\n",
        "\n",
        "# Example usage\n",
        "if __name__ == \"__main__\":\n",
        "    # Graph represented as an adjacency list\n",
        "    graph = {\n",
        "        'A': ['B', 'C'],\n",
        "        'B': ['A', 'D', 'E'],\n",
        "        'C': ['A', 'F'],\n",
        "        'D': ['B'],\n",
        "        'E': ['B', 'F'],\n",
        "        'F': ['C', 'E']\n",
        "    }\n",
        "\n",
        "    # Perform BFS starting from node 'A'\n",
        "    print(\"BFS Traversal starting from node A:\")\n",
        "    bfs(graph, 'A')\n"
      ]
    }
  ]
}